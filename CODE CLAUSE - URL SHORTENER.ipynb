{
 "cells": [
  {
   "cell_type": "markdown",
   "id": "881ebe86",
   "metadata": {},
   "source": [
    "# CODE CLAUSE - URL SHORTENER"
   ]
  },
  {
   "cell_type": "code",
   "execution_count": null,
   "id": "0f44ea80",
   "metadata": {},
   "outputs": [],
   "source": [
    "pip install pyshorteners     # install the library to shortern the url"
   ]
  },
  {
   "cell_type": "code",
   "execution_count": 7,
   "id": "303ff65c",
   "metadata": {},
   "outputs": [
    {
     "name": "stdout",
     "output_type": "stream",
     "text": [
      "Enter the url: https://www.flipkart.com/msd-stainless-steel-scissor-scissors/p/itmepk76vshvddte\n",
      "https://tinyurl.com/22xsgl4b\n"
     ]
    }
   ],
   "source": [
    "import pyshorteners                 \n",
    "\n",
    "url= input('Enter the url: ')      # taking input from user ,i.e longer url\n",
    "\n",
    "def shorturl(url):                 # define a function def shorturl,which is going to take longer url and print shorten url\n",
    "    s=pyshorteners.Shortener()     # we had created a object of pyshorteners\n",
    "    print(s.tinyurl.short(url))    # we are taking longer url that we are taking as parameter\n",
    "    \n",
    "shorturl(url)                      # call the function"
   ]
  },
  {
   "cell_type": "code",
   "execution_count": null,
   "id": "7258d2a2",
   "metadata": {},
   "outputs": [],
   "source": []
  }
 ],
 "metadata": {
  "kernelspec": {
   "display_name": "Python 3 (ipykernel)",
   "language": "python",
   "name": "python3"
  },
  "language_info": {
   "codemirror_mode": {
    "name": "ipython",
    "version": 3
   },
   "file_extension": ".py",
   "mimetype": "text/x-python",
   "name": "python",
   "nbconvert_exporter": "python",
   "pygments_lexer": "ipython3",
   "version": "3.10.9"
  }
 },
 "nbformat": 4,
 "nbformat_minor": 5
}
